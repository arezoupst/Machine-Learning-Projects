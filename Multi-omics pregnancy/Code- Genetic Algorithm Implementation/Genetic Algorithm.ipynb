{
  "cells": [
    {
      "cell_type": "code",
      "execution_count": null,
      "metadata": {
        "id": "61a5c622",
        "colab": {
          "base_uri": "https://localhost:8080/"
        },
        "outputId": "8d3c3fee-9884-4648-ad4d-716eaeeb8349"
      },
      "outputs": [
        {
          "output_type": "stream",
          "name": "stdout",
          "text": [
            "Requirement already satisfied: xlsxwriter in /usr/local/lib/python3.7/dist-packages (3.0.2)\n"
          ]
        }
      ],
      "source": [
        "!pip install xlsxwriter\n",
        "import time\n",
        "import xlrd\n",
        "import xlsxwriter\n",
        "import csv\n",
        "import random\n",
        "import numpy as np\n",
        "import matplotlib.pyplot as plt\n",
        "from ast import literal_eval\n",
        "from random import randint\n",
        "from numpy import mean\n",
        "from numpy import absolute\n",
        "from sklearn.linear_model import ElasticNet\n",
        "from sklearn.model_selection import cross_val_score\n",
        "from sklearn.model_selection import RepeatedKFold\n",
        "#from sklearn.model_selection import train_test_split\n",
        "#from sklearn.metrics import accuracy_score\n",
        "\n",
        "\n"
      ],
      "id": "61a5c622"
    },
    {
      "cell_type": "code",
      "source": [
        ""
      ],
      "metadata": {
        "id": "JFteUtMDf19A"
      },
      "id": "JFteUtMDf19A",
      "execution_count": null,
      "outputs": []
    },
    {
      "cell_type": "code",
      "execution_count": null,
      "id": "a4a996c9",
      "metadata": {
        "id": "a4a996c9"
      },
      "outputs": [],
      "source": [
        "row = 0\n",
        "column = 0"
      ]
    },
    {
      "cell_type": "code",
      "execution_count": null,
      "id": "241dc143",
      "metadata": {
        "id": "241dc143"
      },
      "outputs": [],
      "source": [
        "size_pop = 10\n",
        "size_gen = 10\n",
        "cross_rate = 0.8\n",
        "mutation_rate = 0.2\n",
        "size_cross = cross_rate*size_pop\n",
        "N = int(size_pop-size_cross)"
      ]
    },
    {
      "cell_type": "code",
      "execution_count": null,
      "id": "a806f378",
      "metadata": {
        "id": "a806f378"
      },
      "outputs": [],
      "source": [
        "def read_data():\n",
        "    with open('ImmuneSystem.csv') as csv_file:\n",
        "\n",
        "        csv_reader = csv.reader(csv_file, delimiter=',')\n",
        "        label = []\n",
        "        data = []\n",
        "        row = 0\n",
        "        line_num = 0\n",
        "        for row_data in csv_reader:\n",
        "\n",
        "            if line_num == 0:\n",
        "                column = len(row_data) - 1\n",
        "                size_pop = column//5\n",
        "\n",
        "            else:\n",
        "                label.append(row_data[0])\n",
        "                data.append(row_data[1:])\n",
        "\n",
        "            line_num += 1\n",
        "\n",
        "    for i in range(len(label)):\n",
        "        label[i] = label[i].replace('BL', '4')\n",
        "        t = label[i].split('_')\n",
        "        label[i] = t[1]\n",
        "\n",
        "    data = np.array(data)\n",
        "    label = np.array(label)\n",
        "\n",
        "    return data, label"
      ]
    },
    {
      "cell_type": "code",
      "execution_count": null,
      "id": "b437dbae",
      "metadata": {
        "id": "b437dbae"
      },
      "outputs": [],
      "source": [
        "def individual(lenght):\n",
        "    chromosome = []\n",
        "    for i in range(lenght):\n",
        "        chromosome.append(np.random.choice([0, 1], p=[0.8, 0.2]))\n",
        "\n",
        "    #chromosome=[random.randint(0,1) for i in range(lenght)]\n",
        "    # print(chromosome)\n",
        "    return chromosome"
      ]
    },
    {
      "cell_type": "code",
      "execution_count": null,
      "id": "a9ba5926",
      "metadata": {
        "id": "a9ba5926"
      },
      "outputs": [],
      "source": [
        "def fit_data(bv, samples):\n",
        "    fit_samples = []\n",
        "\n",
        "    for i in range(len(bv)):\n",
        "        if bv[i] == 1:\n",
        "            fit_samples.append(samples[:, i])\n",
        "\n",
        "    return fit_samples"
      ]
    },
    {
      "cell_type": "code",
      "execution_count": null,
      "id": "770af19b",
      "metadata": {
        "id": "770af19b"
      },
      "outputs": [],
      "source": [
        "def compute_fitness(fit_samples, label):\n",
        "\n",
        "    fit_samples = np.array(fit_samples)\n",
        "    fit_samples = np.transpose(fit_samples)\n",
        "\n",
        "    #X_train, X_test, y_train, y_test = train_test_split(fit_samples, label, test_size=0.33)\n",
        "    model = ElasticNet(alpha=1.0, l1_ratio=0.01)\n",
        "    cv = RepeatedKFold(n_splits=10, n_repeats=20, random_state=1)\n",
        "    scores = cross_val_score(model, fit_samples, label,\n",
        "                             scoring='neg_mean_absolute_error', cv=cv, n_jobs=-1)\n",
        "    scores = absolute(scores)\n",
        "    f = mean(scores)\n",
        "\n",
        "    # enet.fit(X_train,y_train)\n",
        "    # y_pred=enet.predict(X_test)\n",
        "    #f=accuracy_score(y_test, y_pred, normalize=False)\n",
        "\n",
        "    return f"
      ]
    },
    {
      "cell_type": "code",
      "execution_count": null,
      "id": "22103780",
      "metadata": {
        "id": "22103780"
      },
      "outputs": [],
      "source": [
        "def first_population(samples, label):\n",
        "    population_list = []\n",
        "\n",
        "    for i in range(size_pop):\n",
        "        binary_vector = individual(len(samples[0]))\n",
        "        # print(binary_vector)\n",
        "\n",
        "        # print(samples)\n",
        "\n",
        "        fit_samples = fit_data(binary_vector, samples)\n",
        "\n",
        "        f = compute_fitness(fit_samples, label)\n",
        "        # print(f)\n",
        "        # print(f\"{f}/{binary_vector}\")\n",
        "        population_list.append((binary_vector, f))\n",
        "\n",
        "    return population_list\n"
      ]
    },
    {
      "cell_type": "code",
      "execution_count": null,
      "id": "b4458afa",
      "metadata": {
        "id": "b4458afa"
      },
      "outputs": [],
      "source": [
        "def cross(population, samples, label):\n",
        "    new_population = []\n",
        "    for _ in range(int(size_cross//2)):\n",
        "        v1 = randint(0, len(population)-1)\n",
        "        v2 = randint(0, len(population)-1)\n",
        "\n",
        "        mid = randint(1, len(population[v1][0])-2)\n",
        "        child1 = population[v1][0][:mid]+population[v2][0][mid:]\n",
        "        child2 = population[v2][0][:mid]+population[v1][0][mid:]\n",
        "\n",
        "        # print(f'v1={population[v1][0]}\\nv2={population[v2][0]}\\nmid={mid}')\n",
        "        # print(f'child1={child1}\\nlen={len(population[v1][0])==len(child1)}')\n",
        "        #print(f'check sides\\nv1={population[v1][0][:mid]==child1[:mid]}\\nv2={population[v2][0][mid:]==child1[mid:]}')\n",
        "\n",
        "        # print(f'child2={child2}\\nlen={len(population[v1][0])==len(child2)}')\n",
        "        #print(f'check sides\\nv1={population[v2][0][:mid]==child2[:mid]}\\nv2={population[v1][0][mid:]==child2[mid:]}')\n",
        "\n",
        "        fit_samples = fit_data(child1, samples)\n",
        "\n",
        "        fitness = compute_fitness(fit_samples, label)\n",
        "\n",
        "        new_population.append((child1, fitness))\n",
        "\n",
        "        # child2\n",
        "\n",
        "        fit_samples = fit_data(child2, samples)\n",
        "\n",
        "        fitness = compute_fitness(fit_samples, label)\n",
        "\n",
        "        new_population.append((child2, fitness))\n",
        "\n",
        "    #new_population.sort(key=lambda tup:tup[1])\n",
        "\n",
        "    return new_population\n"
      ]
    },
    {
      "cell_type": "code",
      "execution_count": null,
      "id": "bb5b0671",
      "metadata": {
        "id": "bb5b0671"
      },
      "outputs": [],
      "source": [
        "def mutant(population, samples, labels, rate=0.5):\n",
        "    new_population = []\n",
        "    for p in population:\n",
        "        mut = random.uniform(0, 1)\n",
        "        if mut < mutation_rate:\n",
        "            chromosom = []\n",
        "            for ch in p[0]:\n",
        "                if random.uniform(0, 1) > rate:\n",
        "                    if ch == 1:\n",
        "                        chromosom.append(0)\n",
        "                    else:\n",
        "                        chromosom.append(1)\n",
        "                else:\n",
        "                    chromosom.append(ch)\n",
        "\n",
        "            fit_samples = fit_data(chromosom, samples)\n",
        "            fitness = compute_fitness(fit_samples, labels)\n",
        "            if fitness < p[1]:\n",
        "                new_population.append((chromosom, fitness))\n",
        "            else:\n",
        "                new_population.append(p)\n",
        "        else:\n",
        "            new_population.append(p)\n",
        "    return new_population"
      ]
    },
    {
      "cell_type": "code",
      "execution_count": null,
      "id": "20c21742",
      "metadata": {
        "id": "20c21742"
      },
      "outputs": [],
      "source": [
        "def read_feature():\n",
        "    features = []\n",
        "    with open(\"ImmuneSystem.csv\", \"r\") as csv_file:\n",
        "        csv_reader = csv.reader(csv_file, delimiter=',')\n",
        "        features = next(csv_reader)\n",
        "        features.pop(0)\n",
        "        # print(features[0])\n",
        "    return features\n"
      ]
    },
    {
      "cell_type": "code",
      "execution_count": null,
      "id": "6a146169",
      "metadata": {
        "id": "6a146169"
      },
      "outputs": [],
      "source": [
        "def check_feature(individual_feature):\n",
        "    selected_features = []\n",
        "    wb = xlrd.open_workbook(\"ImmuneSystem.xlsx\")\n",
        "    sheet = wb.sheet_by_index(0)\n",
        "    for i in range(sheet.nrows):\n",
        "        selected_features.append(sheet.cell_value(i, 0))\n",
        "\n",
        "    detected_features = list(filter(lambda x: x in selected_features, individual_feature))\n",
        "    not_detected_features = list(filter(lambda x: x not in individual_feature, selected_features))\n",
        "    extera_features = list(filter(lambda x: x not in selected_features, individual_feature))\n",
        "\n",
        "    return {\"detected\": detected_features, \"not_detected\": not_detected_features, \"extera\": extera_features}"
      ]
    },
    {
      "cell_type": "code",
      "execution_count": null,
      "id": "587a8443",
      "metadata": {
        "id": "587a8443"
      },
      "outputs": [],
      "source": [
        "def write_check(features, name):\n",
        "    workbook = xlsxwriter.Workbook(f'{name}.xlsx')\n",
        "    worksheet = workbook.add_worksheet()\n",
        "    row = 0\n",
        "    col = 0\n",
        "\n",
        "    for key in features:\n",
        "        worksheet.write(row,col, str(key))\n",
        "        row+=1\n",
        "        for item in features[key]:\n",
        "            worksheet.write(row, col, item)\n",
        "            row+=1\n",
        "        row=0\n",
        "        col+=1\n",
        "\n",
        "    workbook.close()"
      ]
    },
    {
      "cell_type": "code",
      "execution_count": null,
      "id": "b186dbbb",
      "metadata": {
        "id": "b186dbbb"
      },
      "outputs": [],
      "source": [
        "def main():\n",
        "    features = read_feature()\n",
        "    f_new = open(\"best.csv\", \"w\")\n",
        "    best_file = csv.writer(f_new)\n",
        "    best_file.writerow([\"generation\", \"fitness\", \"features\",\n",
        "                       \"number of features\", \"binary_vector\"])\n",
        "\n",
        "    data, label = read_data()\n",
        "\n",
        "    population = first_population(data, label)\n",
        "    # *********************************\n",
        "\n",
        "    # for i in range(len(population)):\n",
        "    # print(population[i][1])\n",
        "\n",
        "    generation_fitness = []\n",
        "    best_number = 0\n",
        "    fit_best = 1000\n",
        "\n",
        "    for g in range(1000):\n",
        "        population.sort(key=lambda tup: tup[1])\n",
        "        print(g, population[0][1])\n",
        "        temp = population[0][1]\n",
        "        if temp < fit_best:\n",
        "            fit_best = temp\n",
        "            best_number = 0\n",
        "        else:\n",
        "            best_number += 1\n",
        "            if best_number > size_pop:\n",
        "                break\n",
        "\n",
        "        p = population[0]\n",
        "        name_gene = []\n",
        "        for i in range(len(p[0])):\n",
        "            if p[0][i] == 1:\n",
        "                name_gene.append(features[i])\n",
        "\n",
        "        best_file.writerow([g+1, p[1], name_gene, len(name_gene), p[0]])\n",
        "\n",
        "        generation_fitness.append(p[1])\n",
        "        # print(\"generation\",generation_fitness,\"gstop\")\n",
        "\n",
        "        new_population = []\n",
        "\n",
        "        new_population = cross(population, data, label)\n",
        "        #print(f\"{g}/cross/{[i[1] for i in new_population]}\")\n",
        "        for i in range(N):\n",
        "            new_population.append(population[i])\n",
        "\n",
        "        population = mutant(new_population, data, label)\n",
        "        #print(f\"{g}/mutation/{[i[1] for i in population]}\")\n",
        "\n",
        "    # print(best_features)\n",
        "    plt.plot(list(range(1, len(generation_fitness)+1)), generation_fitness)\n",
        "    plt.savefig(\"data.png\")\n",
        "    plt.show()\n",
        "\n",
        "    f_new.close()\n",
        "    \n",
        "\n",
        "    return population"
      ]
    },
    {
      "cell_type": "code",
      "execution_count": null,
      "id": "e1463f55",
      "metadata": {
        "colab": {
          "base_uri": "https://localhost:8080/",
          "height": 1000
        },
        "id": "e1463f55",
        "outputId": "d70d3aee-36b0-4d1e-cbf2-1cbec774327a"
      },
      "outputs": [
        {
          "output_type": "stream",
          "name": "stdout",
          "text": [
            "0 0.9856974108889651\n",
            "1 0.9717504509570223\n",
            "2 0.9717504509570223\n",
            "3 0.9687303348489578\n",
            "4 0.9678090430400662\n",
            "5 0.9645878804873894\n",
            "6 0.9645878804873894\n",
            "7 0.9645878804873894\n",
            "8 0.9639737317792296\n",
            "9 0.9606757290958159\n",
            "10 0.9606757290958159\n",
            "11 0.9588942667703461\n",
            "12 0.9588942667703461\n",
            "13 0.9588942667703461\n",
            "14 0.9588942667703461\n",
            "15 0.9580465783224438\n",
            "16 0.9580465783224438\n",
            "17 0.9557169376900131\n",
            "18 0.9557169376900131\n",
            "19 0.9557169376900131\n",
            "20 0.9557169376900131\n",
            "21 0.9551891405397626\n",
            "22 0.9551891405397626\n",
            "23 0.9551891405397626\n",
            "24 0.9551891405397626\n",
            "25 0.9551891405397626\n",
            "26 0.9551891405397626\n",
            "27 0.9551891405397626\n",
            "28 0.9545593478354784\n",
            "29 0.9545593478354784\n",
            "30 0.9533833284694023\n",
            "31 0.9533833284694023\n",
            "32 0.9527818092640519\n",
            "33 0.951779715359807\n",
            "34 0.951779715359807\n",
            "35 0.951779715359807\n",
            "36 0.951779715359807\n",
            "37 0.9515324463334528\n",
            "38 0.9515324463334528\n",
            "39 0.9477159787395874\n",
            "40 0.9477159787395874\n",
            "41 0.9477159787395874\n",
            "42 0.9477159787395874\n",
            "43 0.9477159787395874\n",
            "44 0.9477159787395874\n",
            "45 0.9477159787395874\n",
            "46 0.9477159787395874\n",
            "47 0.9477159787395874\n",
            "48 0.9477159787395874\n",
            "49 0.9477159787395874\n",
            "50 0.9477159787395874\n"
          ]
        },
        {
          "output_type": "display_data",
          "data": {
            "image/png": "[encoded data removed]",
            "text/plain": [
              "<Figure size 432x288 with 1 Axes>"
            ]
          },
          "metadata": {
            "needs_background": "light"
          }
        },
        {
          "output_type": "stream",
          "name": "stdout",
          "text": [
            "--- 1210.7158856391907 Seconds ---\n"
          ]
        }
      ],
      "source": [
        "start_time = time.time()\n",
        "main()\n",
        "print(\"--- %s Seconds ---\" % (time.time() - start_time))"
      ]
    },
    {
      "cell_type": "code",
      "source": [
        "with open('best.csv', 'r') as csv_file:\n",
        "    csv_reader = csv.reader(csv_file, delimiter=',')\n",
        "    next(csv_reader)\n",
        "    for row in csv_reader:\n",
        "      best_feature = literal_eval(row[2])    \n",
        "      check = check_feature(best_feature)\n",
        "      print(f'generation: {row[0]} fitness: {row[1]} detected: {len(check[\"detected\"])} undetected: {len(check[\"not_detected\"])} extera: {len(check[\"extera\"])}')\n",
        "      write_check(check, row[0])"
      ],
      "metadata": {
        "colab": {
          "base_uri": "https://localhost:8080/"
        },
        "id": "Q0HfqiOn2Zsy",
        "outputId": "38729fc1-63a3-4d31-e4a9-6720a27fa574"
      },
      "id": "Q0HfqiOn2Zsy",
      "execution_count": null,
      "outputs": [
        {
          "output_type": "stream",
          "name": "stdout",
          "text": [
            "generation: 1 fitness: 0.9856974108889651 detected: 1 undetected: 79 extera: 114\n",
            "generation: 2 fitness: 0.9717504509570223 detected: 3 undetected: 76 extera: 264\n",
            "generation: 3 fitness: 0.9717504509570223 detected: 3 undetected: 76 extera: 264\n",
            "generation: 4 fitness: 0.9687303348489578 detected: 2 undetected: 78 extera: 274\n",
            "generation: 5 fitness: 0.9678090430400662 detected: 2 undetected: 77 extera: 274\n",
            "generation: 6 fitness: 0.9645878804873894 detected: 2 undetected: 77 extera: 233\n",
            "generation: 7 fitness: 0.9645878804873894 detected: 2 undetected: 77 extera: 233\n",
            "generation: 8 fitness: 0.9645878804873894 detected: 2 undetected: 77 extera: 233\n",
            "generation: 9 fitness: 0.9639737317792296 detected: 2 undetected: 78 extera: 230\n",
            "generation: 10 fitness: 0.9606757290958159 detected: 2 undetected: 77 extera: 271\n",
            "generation: 11 fitness: 0.9606757290958159 detected: 2 undetected: 77 extera: 271\n",
            "generation: 12 fitness: 0.9588942667703461 detected: 2 undetected: 78 extera: 253\n",
            "generation: 13 fitness: 0.9588942667703461 detected: 2 undetected: 78 extera: 253\n",
            "generation: 14 fitness: 0.9588942667703461 detected: 2 undetected: 78 extera: 253\n",
            "generation: 15 fitness: 0.9588942667703461 detected: 2 undetected: 78 extera: 253\n",
            "generation: 16 fitness: 0.9580465783224438 detected: 2 undetected: 78 extera: 273\n",
            "generation: 17 fitness: 0.9580465783224438 detected: 2 undetected: 78 extera: 273\n",
            "generation: 18 fitness: 0.9557169376900131 detected: 2 undetected: 78 extera: 253\n",
            "generation: 19 fitness: 0.9557169376900131 detected: 2 undetected: 78 extera: 253\n",
            "generation: 20 fitness: 0.9557169376900131 detected: 2 undetected: 78 extera: 253\n",
            "generation: 21 fitness: 0.9557169376900131 detected: 2 undetected: 78 extera: 253\n",
            "generation: 22 fitness: 0.9551891405397626 detected: 2 undetected: 78 extera: 269\n",
            "generation: 23 fitness: 0.9551891405397626 detected: 2 undetected: 78 extera: 269\n",
            "generation: 24 fitness: 0.9551891405397626 detected: 2 undetected: 78 extera: 269\n",
            "generation: 25 fitness: 0.9551891405397626 detected: 2 undetected: 78 extera: 269\n",
            "generation: 26 fitness: 0.9551891405397626 detected: 2 undetected: 78 extera: 269\n",
            "generation: 27 fitness: 0.9551891405397626 detected: 2 undetected: 78 extera: 269\n",
            "generation: 28 fitness: 0.9551891405397626 detected: 2 undetected: 78 extera: 269\n",
            "generation: 29 fitness: 0.9545593478354784 detected: 2 undetected: 78 extera: 251\n",
            "generation: 30 fitness: 0.9545593478354784 detected: 2 undetected: 78 extera: 251\n",
            "generation: 31 fitness: 0.9533833284694023 detected: 2 undetected: 78 extera: 257\n",
            "generation: 32 fitness: 0.9533833284694023 detected: 2 undetected: 78 extera: 257\n",
            "generation: 33 fitness: 0.9527818092640519 detected: 2 undetected: 78 extera: 290\n",
            "generation: 34 fitness: 0.951779715359807 detected: 2 undetected: 78 extera: 279\n",
            "generation: 35 fitness: 0.951779715359807 detected: 2 undetected: 78 extera: 279\n",
            "generation: 36 fitness: 0.951779715359807 detected: 2 undetected: 78 extera: 279\n",
            "generation: 37 fitness: 0.951779715359807 detected: 2 undetected: 78 extera: 279\n",
            "generation: 38 fitness: 0.9515324463334528 detected: 2 undetected: 78 extera: 288\n",
            "generation: 39 fitness: 0.9515324463334528 detected: 2 undetected: 78 extera: 288\n",
            "generation: 40 fitness: 0.9477159787395874 detected: 2 undetected: 78 extera: 268\n",
            "generation: 41 fitness: 0.9477159787395874 detected: 2 undetected: 78 extera: 268\n",
            "generation: 42 fitness: 0.9477159787395874 detected: 2 undetected: 78 extera: 268\n",
            "generation: 43 fitness: 0.9477159787395874 detected: 2 undetected: 78 extera: 268\n",
            "generation: 44 fitness: 0.9477159787395874 detected: 2 undetected: 78 extera: 268\n",
            "generation: 45 fitness: 0.9477159787395874 detected: 2 undetected: 78 extera: 268\n",
            "generation: 46 fitness: 0.9477159787395874 detected: 2 undetected: 78 extera: 268\n",
            "generation: 47 fitness: 0.9477159787395874 detected: 2 undetected: 78 extera: 269\n",
            "generation: 48 fitness: 0.9477159787395874 detected: 2 undetected: 78 extera: 269\n",
            "generation: 49 fitness: 0.9477159787395874 detected: 2 undetected: 78 extera: 269\n",
            "generation: 50 fitness: 0.9477159787395874 detected: 2 undetected: 78 extera: 269\n"
          ]
        }
      ]
    }
  ],
  "metadata": {
    "kernelspec": {
      "display_name": "Python 3",
      "language": "python",
      "name": "python3"
    },
    "language_info": {
      "codemirror_mode": {
        "name": "ipython",
        "version": 3
      },
      "file_extension": ".py",
      "mimetype": "text/x-python",
      "name": "python",
      "nbconvert_exporter": "python",
      "pygments_lexer": "ipython3",
      "version": "3.8.2"
    },
    "colab": {
      "name": "Untitled.ipynb",
      "provenance": [],
      "collapsed_sections": []
    }
  },
  "nbformat": 4,
  "nbformat_minor": 5
}