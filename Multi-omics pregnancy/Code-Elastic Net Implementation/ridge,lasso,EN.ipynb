{
  "nbformat": 4,
  "nbformat_minor": 0,
  "metadata": {
    "colab": {
      "provenance": []
    },
    "kernelspec": {
      "name": "python3",
      "display_name": "Python 3"
    },
    "language_info": {
      "name": "python"
    }
  },
  "cells": [
    {
      "cell_type": "code",
      "execution_count": null,
      "metadata": {
        "id": "kMFeO75qvb38"
      },
      "outputs": [],
      "source": [
        "import pandas as pd\n",
        "import numpy as np\n",
        "import matplotlib.pyplot as plt\n",
        "from sklearn.model_selection import train_test_split\n",
        "from sklearn.linear_model import LinearRegression"
      ]
    },
    {
      "cell_type": "code",
      "source": [
        "#loading dataset\n",
        "df = pd.read_csv(\"PlasmaSomalogic.csv\")\n",
        "df_new = pd.DataFrame(columns=list(df.columns))\n",
        "X=df = df.iloc[: , 1:]\n",
        "print(X.head(5))\n",
        "print(X.shape)\n"
      ],
      "metadata": {
        "colab": {
          "base_uri": "https://localhost:8080/"
        },
        "id": "hZL5Q7R8vifv",
        "outputId": "c55430d2-bccf-4f18-8a1f-162404fd2881"
      },
      "execution_count": null,
      "outputs": [
        {
          "output_type": "stream",
          "name": "stdout",
          "text": [
            "    STUB1  CEBPB    ENO2  PIAS4  IL10RA  STAT3    IRF1   MCL1   OAS1    MYC  \\\n",
            "0  1084.0  396.2  7065.9  490.7   702.9  761.0  1003.2  443.4  140.7  190.6   \n",
            "1   916.7  492.2  6341.9  518.6   691.7  922.3  1226.6  728.3  328.1  214.2   \n",
            "2   744.4  541.4  8916.0  615.5   742.4  595.8  2336.8  614.6  162.3  197.5   \n",
            "3   831.0  544.7  5317.6  504.9   837.8  944.0  1011.6  459.2  150.6  307.6   \n",
            "4  1033.4  558.4  4022.1  548.6   742.9  891.4  1146.8  522.3  148.4  196.4   \n",
            "\n",
            "   ...  UBE2G2  TAGLN2   ATP5O  POMC.2  CRYZL1  SERPINF1    CTSF    FTCD  \\\n",
            "0  ...  4804.4  2233.0  3610.9   715.8   151.4   37885.8  1479.1  3261.8   \n",
            "1  ...  5023.5  2108.8  2679.9   363.0   191.8   32384.0  1557.6  1950.0   \n",
            "2  ...  4261.9  1804.6  1470.6   526.8   163.0   38938.3  1170.1  1036.8   \n",
            "3  ...  4017.6  2057.7  2331.3   439.6   178.1   34359.5  1427.1  3149.2   \n",
            "4  ...  4489.4  2653.4  2189.1   655.9   176.3   35281.1  1944.2  3266.7   \n",
            "\n",
            "   USP25  PLXNB2  \n",
            "0  561.3  3227.0  \n",
            "1  701.3  3179.1  \n",
            "2  552.8  3457.1  \n",
            "3  597.0  3370.9  \n",
            "4  615.2  2916.1  \n",
            "\n",
            "[5 rows x 1300 columns]\n",
            "(68, 1300)\n"
          ]
        }
      ]
    },
    {
      "cell_type": "code",
      "source": [
        "df_feature=pd.read_csv(\"featureweeks.csv\")\n",
        "feature_weeks=[]\n",
        "for feature in df_feature[\"x\"]:\n",
        "  feature_weeks.append(feature)"
      ],
      "metadata": {
        "id": "hBbx4xykv2IB"
      },
      "execution_count": null,
      "outputs": []
    },
    {
      "cell_type": "code",
      "source": [
        "len(feature_weeks)"
      ],
      "metadata": {
        "colab": {
          "base_uri": "https://localhost:8080/"
        },
        "id": "EQXWoPRXwSKm",
        "outputId": "bcbcd04d-81db-43d3-864a-d7e074778251"
      },
      "execution_count": null,
      "outputs": [
        {
          "output_type": "execute_result",
          "data": {
            "text/plain": [
              "68"
            ]
          },
          "metadata": {},
          "execution_count": 4
        }
      ]
    },
    {
      "cell_type": "code",
      "source": [
        "y=np.array(feature_weeks)\n",
        "#X=np.array(X)"
      ],
      "metadata": {
        "id": "kfAltk7owcfN"
      },
      "execution_count": null,
      "outputs": []
    },
    {
      "cell_type": "code",
      "source": [
        "X_train, X_test, y_train, y_test = train_test_split(X, y, test_size=0.2)\n",
        "\n",
        "print(\"Train data shape of X = % s and Y = % s : \"%(\n",
        "\tX_train.shape, y_train.shape))\n",
        "\n",
        "print(\"Test data shape of X = % s and Y = % s : \"%(\n",
        "\tX_test.shape, y_test.shape))\n"
      ],
      "metadata": {
        "colab": {
          "base_uri": "https://localhost:8080/"
        },
        "id": "D4hQzIJWwiJy",
        "outputId": "8c63fb18-194b-4151-d848-91184f4fa31e"
      },
      "execution_count": null,
      "outputs": [
        {
          "output_type": "stream",
          "name": "stdout",
          "text": [
            "Train data shape of X = (54, 1300) and Y = (54,) : \n",
            "Test data shape of X = (14, 1300) and Y = (14,) : \n"
          ]
        }
      ]
    },
    {
      "cell_type": "code",
      "source": [
        "# Apply multiple Linear Regression Model\n",
        "lreg = LinearRegression()\n",
        "lreg.fit(X_train, y_train)\n",
        "\n",
        "# Generate Prediction on test set\n",
        "lreg_y_pred = lreg.predict(X_test)\n",
        "\n",
        "# calculating Mean Squared Error (mse)\n",
        "mean_squared_error = np.mean((lreg_y_pred - y_test)**2)\n",
        "print(\"Mean squared Error on test set : \", mean_squared_error)\n",
        "\n",
        "# Putting together the coefficient and their corresponding variable names\n",
        "lreg_coefficient = pd.DataFrame()\n",
        "lreg_coefficient[\"Columns\"] = X_train.columns\n",
        "lreg_coefficient['Coefficient Estimate'] = pd.Series(lreg.coef_)\n",
        "print(lreg_coefficient)\n"
      ],
      "metadata": {
        "colab": {
          "base_uri": "https://localhost:8080/"
        },
        "id": "3SoW9GwJxE4w",
        "outputId": "10f58829-9f0b-4d85-c3d5-0dcda48e126b"
      },
      "execution_count": null,
      "outputs": [
        {
          "output_type": "stream",
          "name": "stdout",
          "text": [
            "Mean squared Error on test set :  2.0672424944403559e+24\n",
            "       Columns  Coefficient Estimate\n",
            "0        STUB1          2.514661e+07\n",
            "1        CEBPB         -3.081267e+06\n",
            "2         ENO2         -1.769175e+07\n",
            "3        PIAS4         -1.903756e+07\n",
            "4       IL10RA         -1.112536e+07\n",
            "...        ...                   ...\n",
            "1295  SERPINF1          9.312373e+06\n",
            "1296      CTSF          1.056426e+06\n",
            "1297      FTCD          8.408670e+06\n",
            "1298     USP25         -4.825009e+05\n",
            "1299    PLXNB2          4.288358e+05\n",
            "\n",
            "[1300 rows x 2 columns]\n"
          ]
        }
      ]
    },
    {
      "cell_type": "code",
      "source": [
        "# plotting the coefficient score\n",
        "fig, ax = plt.subplots(figsize =(20, 10))\n",
        "\n",
        "color =['tab:gray', 'tab:blue', 'tab:orange',\n",
        "'tab:green', 'tab:red', 'tab:purple', 'tab:brown',\n",
        "'tab:pink', 'tab:gray', 'tab:olive', 'tab:cyan',\n",
        "'tab:orange', 'tab:green', 'tab:blue', 'tab:olive']\n",
        "\n",
        "ax.bar(lreg_coefficient[\"Columns\"],\n",
        "lreg_coefficient['Coefficient Estimate'],\n",
        "color = color)\n",
        "\n",
        "ax.spines['bottom'].set_position('zero')\n",
        "\n",
        "plt.style.use('ggplot')\n",
        "plt.show()\n"
      ],
      "metadata": {
        "colab": {
          "base_uri": "https://localhost:8080/",
          "height": 519
        },
        "id": "hqcV-qqdxR4G",
        "outputId": "9b22a0b8-a4fe-4c0b-f59b-77a9c664993e"
      },
      "execution_count": null,
      "outputs": [
        {
          "output_type": "display_data",
          "data": {
            "text/plain": [
              "<Figure size 1440x720 with 1 Axes>"
            ],
            "image/png": "[encoded data removed]"
          },
          "metadata": {
            "needs_background": "light"
          }
        }
      ]
    },
    {
      "cell_type": "code",
      "source": [
        "# import ridge regression from sklearn library\n",
        "from sklearn.linear_model import Ridge\n",
        "\n",
        "# Train the model\n",
        "ridgeR = Ridge(alpha = 1)\n",
        "ridgeR.fit(X_train, y_train)\n",
        "y_pred = ridgeR.predict(X_test)\n",
        "\n",
        "# calculate mean square error\n",
        "mean_squared_error_ridge = np.mean((y_pred - y_test)**2)\n",
        "print(mean_squared_error_ridge)\n",
        "\n",
        "# get ridge coefficient and print them\n",
        "ridge_coefficient = pd.DataFrame()\n",
        "ridge_coefficient[\"Columns\"]= X_train.columns\n",
        "ridge_coefficient['Coefficient Estimate'] = pd.Series(ridgeR.coef_)\n",
        "print(ridge_coefficient)\n"
      ],
      "metadata": {
        "colab": {
          "base_uri": "https://localhost:8080/"
        },
        "id": "KmkZFXAqxrPb",
        "outputId": "ae5ec6e8-2ef6-47a6-d10a-eacbdd18778c"
      },
      "execution_count": null,
      "outputs": [
        {
          "output_type": "stream",
          "name": "stdout",
          "text": [
            "7.958239558389279\n",
            "       Columns  Coefficient Estimate\n",
            "0        STUB1         -9.129446e-07\n",
            "1        CEBPB          1.407754e-06\n",
            "2         ENO2         -4.118117e-05\n",
            "3        PIAS4          9.509603e-07\n",
            "4       IL10RA         -3.665608e-07\n",
            "...        ...                   ...\n",
            "1295  SERPINF1          1.712151e-06\n",
            "1296      CTSF          1.332773e-06\n",
            "1297      FTCD         -1.378091e-05\n",
            "1298     USP25          3.167135e-07\n",
            "1299    PLXNB2          5.299891e-06\n",
            "\n",
            "[1300 rows x 2 columns]\n"
          ]
        }
      ]
    },
    {
      "cell_type": "code",
      "source": [
        "# plotting the coefficient score\n",
        "fig, ax = plt.subplots(figsize =(20, 10))\n",
        "\n",
        "color =['tab:gray', 'tab:blue', 'tab:orange',\n",
        "'tab:green', 'tab:red', 'tab:purple', 'tab:brown',\n",
        "'tab:pink', 'tab:gray', 'tab:olive', 'tab:cyan',\n",
        "'tab:orange', 'tab:green', 'tab:blue', 'tab:olive']\n",
        "\n",
        "ax.bar(ridge_coefficient[\"Columns\"],\n",
        "ridge_coefficient['Coefficient Estimate'],\n",
        "color = color)\n",
        "\n",
        "ax.spines['bottom'].set_position('zero')\n",
        "\n",
        "plt.style.use('ggplot')\n",
        "plt.show()\n"
      ],
      "metadata": {
        "colab": {
          "base_uri": "https://localhost:8080/",
          "height": 496
        },
        "id": "aPEJCZAYx11b",
        "outputId": "02a8d975-2757-4a7f-8053-2c897ccbd06d"
      },
      "execution_count": null,
      "outputs": [
        {
          "output_type": "display_data",
          "data": {
            "text/plain": [
              "<Figure size 1440x720 with 1 Axes>"
            ],
            "image/png": "[encoded data removed]"
          },
          "metadata": {}
        }
      ]
    },
    {
      "cell_type": "code",
      "source": [
        "# import model\n",
        "from sklearn.linear_model import ElasticNet\n",
        "\n",
        "# Train the model\n",
        "e_net = ElasticNet(alpha = 1)\n",
        "e_net.fit(X_train, y_train)\n",
        "\n",
        "# calculate the prediction and mean square error\n",
        "y_pred_elastic = e_net.predict(X_test)\n",
        "mean_squared_error = np.mean((y_pred_elastic - y_test)**2)\n",
        "print(\"Mean Squared Error on test set\", mean_squared_error)\n",
        "\n",
        "e_net_coeff = pd.DataFrame()\n",
        "e_net_coeff[\"Columns\"] = X_train.columns\n",
        "e_net_coeff['Coefficient Estimate'] = pd.Series(e_net.coef_)\n",
        "e_net_coeff\n"
      ],
      "metadata": {
        "colab": {
          "base_uri": "https://localhost:8080/",
          "height": 497
        },
        "id": "G0BJbmaOyG1M",
        "outputId": "8dc47e4f-0579-4247-ebc8-1fbe494e6456"
      },
      "execution_count": null,
      "outputs": [
        {
          "output_type": "stream",
          "name": "stdout",
          "text": [
            "Mean Squared Error on test set 24.047808832211405\n"
          ]
        },
        {
          "output_type": "stream",
          "name": "stderr",
          "text": [
            "/usr/local/lib/python3.7/dist-packages/sklearn/linear_model/_coordinate_descent.py:648: ConvergenceWarning: Objective did not converge. You might want to increase the number of iterations, check the scale of the features or consider increasing regularisation. Duality gap: 2.350e+02, tolerance: 5.090e-01\n",
            "  coef_, l1_reg, l2_reg, X, y, max_iter, tol, rng, random, positive\n"
          ]
        },
        {
          "output_type": "execute_result",
          "data": {
            "text/plain": [
              "       Columns  Coefficient Estimate\n",
              "0        STUB1             -0.010671\n",
              "1        CEBPB              0.000000\n",
              "2         ENO2             -0.000449\n",
              "3        PIAS4              0.000372\n",
              "4       IL10RA              0.000000\n",
              "...        ...                   ...\n",
              "1295  SERPINF1              0.000037\n",
              "1296      CTSF             -0.000000\n",
              "1297      FTCD              0.000005\n",
              "1298     USP25              0.000000\n",
              "1299    PLXNB2             -0.000000\n",
              "\n",
              "[1300 rows x 2 columns]"
            ],
            "text/html": [
              "\n",
              "  <div id=\"df-6056bbf7-0b32-4396-a0ba-625d54b4acdc\">\n",
              "    <div class=\"colab-df-container\">\n",
              "      <div>\n",
              "<style scoped>\n",
              "    .dataframe tbody tr th:only-of-type {\n",
              "        vertical-align: middle;\n",
              "    }\n",
              "\n",
              "    .dataframe tbody tr th {\n",
              "        vertical-align: top;\n",
              "    }\n",
              "\n",
              "    .dataframe thead th {\n",
              "        text-align: right;\n",
              "    }\n",
              "</style>\n",
              "<table border=\"1\" class=\"dataframe\">\n",
              "  <thead>\n",
              "    <tr style=\"text-align: right;\">\n",
              "      <th></th>\n",
              "      <th>Columns</th>\n",
              "      <th>Coefficient Estimate</th>\n",
              "    </tr>\n",
              "  </thead>\n",
              "  <tbody>\n",
              "    <tr>\n",
              "      <th>0</th>\n",
              "      <td>STUB1</td>\n",
              "      <td>-0.010671</td>\n",
              "    </tr>\n",
              "    <tr>\n",
              "      <th>1</th>\n",
              "      <td>CEBPB</td>\n",
              "      <td>0.000000</td>\n",
              "    </tr>\n",
              "    <tr>\n",
              "      <th>2</th>\n",
              "      <td>ENO2</td>\n",
              "      <td>-0.000449</td>\n",
              "    </tr>\n",
              "    <tr>\n",
              "      <th>3</th>\n",
              "      <td>PIAS4</td>\n",
              "      <td>0.000372</td>\n",
              "    </tr>\n",
              "    <tr>\n",
              "      <th>4</th>\n",
              "      <td>IL10RA</td>\n",
              "      <td>0.000000</td>\n",
              "    </tr>\n",
              "    <tr>\n",
              "      <th>...</th>\n",
              "      <td>...</td>\n",
              "      <td>...</td>\n",
              "    </tr>\n",
              "    <tr>\n",
              "      <th>1295</th>\n",
              "      <td>SERPINF1</td>\n",
              "      <td>0.000037</td>\n",
              "    </tr>\n",
              "    <tr>\n",
              "      <th>1296</th>\n",
              "      <td>CTSF</td>\n",
              "      <td>-0.000000</td>\n",
              "    </tr>\n",
              "    <tr>\n",
              "      <th>1297</th>\n",
              "      <td>FTCD</td>\n",
              "      <td>0.000005</td>\n",
              "    </tr>\n",
              "    <tr>\n",
              "      <th>1298</th>\n",
              "      <td>USP25</td>\n",
              "      <td>0.000000</td>\n",
              "    </tr>\n",
              "    <tr>\n",
              "      <th>1299</th>\n",
              "      <td>PLXNB2</td>\n",
              "      <td>-0.000000</td>\n",
              "    </tr>\n",
              "  </tbody>\n",
              "</table>\n",
              "<p>1300 rows × 2 columns</p>\n",
              "</div>\n",
              "      <button class=\"colab-df-convert\" onclick=\"convertToInteractive('df-6056bbf7-0b32-4396-a0ba-625d54b4acdc')\"\n",
              "              title=\"Convert this dataframe to an interactive table.\"\n",
              "              style=\"display:none;\">\n",
              "        \n",
              "  <svg xmlns=\"http://www.w3.org/2000/svg\" height=\"24px\"viewBox=\"0 0 24 24\"\n",
              "       width=\"24px\">\n",
              "    <path d=\"M0 0h24v24H0V0z\" fill=\"none\"/>\n",
              "    <path d=\"M18.56 5.44l.94 2.06.94-2.06 2.06-.94-2.06-.94-.94-2.06-.94 2.06-2.06.94zm-11 1L8.5 8.5l.94-2.06 2.06-.94-2.06-.94L8.5 2.5l-.94 2.06-2.06.94zm10 10l.94 2.06.94-2.06 2.06-.94-2.06-.94-.94-2.06-.94 2.06-2.06.94z\"/><path d=\"M17.41 7.96l-1.37-1.37c-.4-.4-.92-.59-1.43-.59-.52 0-1.04.2-1.43.59L10.3 9.45l-7.72 7.72c-.78.78-.78 2.05 0 2.83L4 21.41c.39.39.9.59 1.41.59.51 0 1.02-.2 1.41-.59l7.78-7.78 2.81-2.81c.8-.78.8-2.07 0-2.86zM5.41 20L4 18.59l7.72-7.72 1.47 1.35L5.41 20z\"/>\n",
              "  </svg>\n",
              "      </button>\n",
              "      \n",
              "  <style>\n",
              "    .colab-df-container {\n",
              "      display:flex;\n",
              "      flex-wrap:wrap;\n",
              "      gap: 12px;\n",
              "    }\n",
              "\n",
              "    .colab-df-convert {\n",
              "      background-color: #E8F0FE;\n",
              "      border: none;\n",
              "      border-radius: 50%;\n",
              "      cursor: pointer;\n",
              "      display: none;\n",
              "      fill: #1967D2;\n",
              "      height: 32px;\n",
              "      padding: 0 0 0 0;\n",
              "      width: 32px;\n",
              "    }\n",
              "\n",
              "    .colab-df-convert:hover {\n",
              "      background-color: #E2EBFA;\n",
              "      box-shadow: 0px 1px 2px rgba(60, 64, 67, 0.3), 0px 1px 3px 1px rgba(60, 64, 67, 0.15);\n",
              "      fill: #174EA6;\n",
              "    }\n",
              "\n",
              "    [theme=dark] .colab-df-convert {\n",
              "      background-color: #3B4455;\n",
              "      fill: #D2E3FC;\n",
              "    }\n",
              "\n",
              "    [theme=dark] .colab-df-convert:hover {\n",
              "      background-color: #434B5C;\n",
              "      box-shadow: 0px 1px 3px 1px rgba(0, 0, 0, 0.15);\n",
              "      filter: drop-shadow(0px 1px 2px rgba(0, 0, 0, 0.3));\n",
              "      fill: #FFFFFF;\n",
              "    }\n",
              "  </style>\n",
              "\n",
              "      <script>\n",
              "        const buttonEl =\n",
              "          document.querySelector('#df-6056bbf7-0b32-4396-a0ba-625d54b4acdc button.colab-df-convert');\n",
              "        buttonEl.style.display =\n",
              "          google.colab.kernel.accessAllowed ? 'block' : 'none';\n",
              "\n",
              "        async function convertToInteractive(key) {\n",
              "          const element = document.querySelector('#df-6056bbf7-0b32-4396-a0ba-625d54b4acdc');\n",
              "          const dataTable =\n",
              "            await google.colab.kernel.invokeFunction('convertToInteractive',\n",
              "                                                     [key], {});\n",
              "          if (!dataTable) return;\n",
              "\n",
              "          const docLinkHtml = 'Like what you see? Visit the ' +\n",
              "            '<a target=\"_blank\" href=https://colab.research.google.com/notebooks/data_table.ipynb>data table notebook</a>'\n",
              "            + ' to learn more about interactive tables.';\n",
              "          element.innerHTML = '';\n",
              "          dataTable['output_type'] = 'display_data';\n",
              "          await google.colab.output.renderOutput(dataTable, element);\n",
              "          const docLink = document.createElement('div');\n",
              "          docLink.innerHTML = docLinkHtml;\n",
              "          element.appendChild(docLink);\n",
              "        }\n",
              "      </script>\n",
              "    </div>\n",
              "  </div>\n",
              "  "
            ]
          },
          "metadata": {},
          "execution_count": 14
        }
      ]
    },
    {
      "cell_type": "code",
      "source": [],
      "metadata": {
        "id": "O7CeO0sBygdO"
      },
      "execution_count": null,
      "outputs": []
    }
  ]
}